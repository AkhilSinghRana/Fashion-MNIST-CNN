{
 "cells": [
  {
   "cell_type": "markdown",
   "metadata": {},
   "source": [
    "# Data-Exploration "
   ]
  },
  {
   "cell_type": "code",
   "execution_count": 1,
   "metadata": {},
   "outputs": [],
   "source": [
    "# import pandas\n",
    "import pandas as pd"
   ]
  },
  {
   "cell_type": "code",
   "execution_count": 2,
   "metadata": {},
   "outputs": [
    {
     "name": "stdout",
     "output_type": "stream",
     "text": [
      "<class 'pandas.core.frame.DataFrame'>\n",
      "RangeIndex: 800 entries, 0 to 799\n",
      "Data columns (total 2 columns):\n",
      " #   Column          Non-Null Count  Dtype \n",
      "---  ------          --------------  ----- \n",
      " 0   IMAGE_FILENAME  800 non-null    object\n",
      " 1    LABEL          800 non-null    object\n",
      "dtypes: object(2)\n",
      "memory usage: 12.6+ KB\n"
     ]
    }
   ],
   "source": [
    "#Read the CSV file and get initial information of the dataset, for example number of files that are provided for this challenge\n",
    "data = pd.read_csv(\"../data/gicsd_labels.csv\")\n",
    "data.info() # Gives the basic info of the Pandas dataframe"
   ]
  },
  {
   "cell_type": "markdown",
   "metadata": {},
   "source": [
    "### Further Exploration"
   ]
  },
  {
   "cell_type": "code",
   "execution_count": 3,
   "metadata": {},
   "outputs": [
    {
     "data": {
      "text/html": [
       "<div>\n",
       "<style scoped>\n",
       "    .dataframe tbody tr th:only-of-type {\n",
       "        vertical-align: middle;\n",
       "    }\n",
       "\n",
       "    .dataframe tbody tr th {\n",
       "        vertical-align: top;\n",
       "    }\n",
       "\n",
       "    .dataframe thead th {\n",
       "        text-align: right;\n",
       "    }\n",
       "</style>\n",
       "<table border=\"1\" class=\"dataframe\">\n",
       "  <thead>\n",
       "    <tr style=\"text-align: right;\">\n",
       "      <th></th>\n",
       "      <th>IMAGE_FILENAME</th>\n",
       "      <th>LABEL</th>\n",
       "    </tr>\n",
       "  </thead>\n",
       "  <tbody>\n",
       "    <tr>\n",
       "      <th>0</th>\n",
       "      <td>GICSD_1_0_3.png</td>\n",
       "      <td>FULL_VISIBILITY</td>\n",
       "    </tr>\n",
       "    <tr>\n",
       "      <th>1</th>\n",
       "      <td>GICSD_1_0_13.png</td>\n",
       "      <td>FULL_VISIBILITY</td>\n",
       "    </tr>\n",
       "    <tr>\n",
       "      <th>2</th>\n",
       "      <td>GICSD_1_1_33.png</td>\n",
       "      <td>PARTIAL_VISIBILITY</td>\n",
       "    </tr>\n",
       "    <tr>\n",
       "      <th>3</th>\n",
       "      <td>GICSD_1_1_53.png</td>\n",
       "      <td>FULL_VISIBILITY</td>\n",
       "    </tr>\n",
       "    <tr>\n",
       "      <th>4</th>\n",
       "      <td>GICSD_1_2_73.png</td>\n",
       "      <td>FULL_VISIBILITY</td>\n",
       "    </tr>\n",
       "  </tbody>\n",
       "</table>\n",
       "</div>"
      ],
      "text/plain": [
       "     IMAGE_FILENAME                 LABEL\n",
       "0   GICSD_1_0_3.png      FULL_VISIBILITY \n",
       "1  GICSD_1_0_13.png      FULL_VISIBILITY \n",
       "2  GICSD_1_1_33.png   PARTIAL_VISIBILITY \n",
       "3  GICSD_1_1_53.png      FULL_VISIBILITY \n",
       "4  GICSD_1_2_73.png      FULL_VISIBILITY "
      ]
     },
     "execution_count": 3,
     "metadata": {},
     "output_type": "execute_result"
    }
   ],
   "source": [
    "data.head() #shows first 5 rows of the CSV, just to get a feeling about the dataset "
   ]
  },
  {
   "cell_type": "code",
   "execution_count": null,
   "metadata": {},
   "outputs": [],
   "source": [
    "data[\"LABEL\"].value_counts() # The error looks wierd as I could clearly see LABEL as one of the keys, lets verify this"
   ]
  },
  {
   "cell_type": "code",
   "execution_count": 5,
   "metadata": {},
   "outputs": [
    {
     "data": {
      "text/plain": [
       "Index(['IMAGE_FILENAME', ' LABEL'], dtype='object')"
      ]
     },
     "execution_count": 5,
     "metadata": {},
     "output_type": "execute_result"
    }
   ],
   "source": [
    "data.keys() # Ah, I see a space before LABEL ;) "
   ]
  },
  {
   "cell_type": "code",
   "execution_count": 6,
   "metadata": {},
   "outputs": [
    {
     "data": {
      "text/plain": [
       " FULL_VISIBILITY        646\n",
       " PARTIAL_VISIBILITY     123\n",
       " NO_VISIBILITY           31\n",
       "Name:  LABEL, dtype: int64"
      ]
     },
     "execution_count": 6,
     "metadata": {},
     "output_type": "execute_result"
    }
   ],
   "source": [
    "# Let's try again with a space\n",
    "data[\" LABEL\"].value_counts()"
   ]
  },
  {
   "cell_type": "markdown",
   "metadata": {},
   "source": [
    "----------------------------------------------\n",
    "##### Alright, the data is clearly not balanced, not a good sign but let's not giveup yet!\n",
    "##### Let's try and dig deeper into the images and find some more info about them\n"
   ]
  },
  {
   "cell_type": "code",
   "execution_count": 30,
   "metadata": {},
   "outputs": [
    {
     "name": "stdout",
     "output_type": "stream",
     "text": [
      "--------Train Split-----------\n",
      " FULL_VISIBILITY        513\n",
      " PARTIAL_VISIBILITY      98\n",
      " NO_VISIBILITY           29\n",
      "Name:  LABEL, dtype: int64\n",
      "--------Test Split-----------\n",
      " FULL_VISIBILITY        133\n",
      " PARTIAL_VISIBILITY      25\n",
      " NO_VISIBILITY            2\n",
      "Name:  LABEL, dtype: int64\n"
     ]
    }
   ],
   "source": [
    "# Randomly create a validation dataframe and seperate the train and test csvs\n",
    "from sklearn.model_selection import train_test_split\n",
    "train, test = train_test_split(data, test_size=0.2) # 80-20 split\n",
    "print(\"--------Train Split-----------\")\n",
    "print(train[\" LABEL\"].value_counts())\n",
    "print(\"--------Test Split-----------\")\n",
    "print(test[\" LABEL\"].value_counts())"
   ]
  },
  {
   "cell_type": "markdown",
   "metadata": {},
   "source": [
    "#### Let's save the train test dataframes as a seperate CSV"
   ]
  },
  {
   "cell_type": "code",
   "execution_count": 32,
   "metadata": {},
   "outputs": [
    {
     "name": "stdout",
     "output_type": "stream",
     "text": [
      "Done...\n"
     ]
    }
   ],
   "source": [
    "train_csv = train.to_csv (r'../data/train.csv', index = None, header=True) #Don't forget to add '.csv' at the end of the path\n",
    "test_csv = test.to_csv (r'../data/test.csv', index = None, header=True) #Don't forget to add '.csv' at the end of the path\n",
    "print(\"Done...\")"
   ]
  },
  {
   "cell_type": "markdown",
   "metadata": {},
   "source": [
    "### FeatureEngineering and Images are visualized in FeatureEngineering.ipynb"
   ]
  }
 ],
 "metadata": {
  "kernelspec": {
   "display_name": "Python 3",
   "language": "python",
   "name": "python3"
  },
  "language_info": {
   "codemirror_mode": {
    "name": "ipython",
    "version": 3
   },
   "file_extension": ".py",
   "mimetype": "text/x-python",
   "name": "python",
   "nbconvert_exporter": "python",
   "pygments_lexer": "ipython3",
   "version": "3.7.5"
  }
 },
 "nbformat": 4,
 "nbformat_minor": 4
}
