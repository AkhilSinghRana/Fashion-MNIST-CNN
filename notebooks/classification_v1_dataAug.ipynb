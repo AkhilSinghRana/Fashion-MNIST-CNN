{
 "cells": [
  {
   "cell_type": "markdown",
   "metadata": {},
   "source": [
    "# CNN approach for fashion-MNIST\n",
    "\n",
    "This notebook shows different approaches to solve FashionMNIST problem.\n"
   ]
  },
  {
   "cell_type": "markdown",
   "metadata": {},
   "source": [
    "#### Required data\n",
    "You can find the dataset and further informations at Zalando:\n",
    "- https://github.com/zalandoresearch/fashion-mnist\n"
   ]
  },
  {
   "cell_type": "markdown",
   "metadata": {},
   "source": [
    "_______"
   ]
  },
  {
   "cell_type": "code",
   "execution_count": 1,
   "metadata": {},
   "outputs": [
    {
     "name": "stdout",
     "output_type": "stream",
     "text": [
      "2.1.0\n"
     ]
    }
   ],
   "source": [
    "from __future__ import absolute_import, division, print_function, unicode_literals\n",
    "\n",
    "# TensorFlow and tf.keras\n",
    "import tensorflow as tf\n",
    "from tensorflow import keras\n",
    "\n",
    "# Helper libraries\n",
    "import numpy as np\n",
    "import matplotlib.pyplot as plt\n",
    "\n",
    "print(tf.__version__)"
   ]
  },
  {
   "cell_type": "code",
   "execution_count": 2,
   "metadata": {},
   "outputs": [
    {
     "name": "stdout",
     "output_type": "stream",
     "text": [
      "Call the script from train.py or main.py\n",
      "Namespace(batch_size=250, exp_name='Experiment_1', img_h=28, img_w=28, load_dir='saved_models', mode='train', model_arch='custom', num_aug=2, num_channels=1, num_classes=10, num_epochs=10, optimizer='Adam', save_dir='saved_models')\n"
     ]
    }
   ],
   "source": [
    "#Import options from options.py needed for dataloading and generating models\n",
    "import sys, os\n",
    "\n",
    "%run ../code/options.py\n",
    "%run ../code/util/dataLoader.py\n",
    "\n",
    "import sys; sys.argv=['']; del sys\n",
    "args = parseArguments()\n",
    "print(args)"
   ]
  },
  {
   "cell_type": "markdown",
   "metadata": {},
   "source": [
    "# Data Loading"
   ]
  },
  {
   "cell_type": "code",
   "execution_count": 3,
   "metadata": {},
   "outputs": [
    {
     "name": "stdout",
     "output_type": "stream",
     "text": [
      "Train Samples: 60000\n",
      "Test Samples: 10000\n"
     ]
    }
   ],
   "source": [
    "# Generate Data Loader\n",
    "dataloader = DataLoader(args)\n",
    "(X_train, y_train), (X_test, y_test) = dataloader.generateData()\n",
    "\n",
    "#Class mappign usefull for plotting\n",
    "fashion_classes     = {0: 'T-shirt/top', \n",
    "                       1: 'Trouser', \n",
    "                       2: 'Pullover', \n",
    "                       3: 'Dress', \n",
    "                       4: 'Coat',\n",
    "                       5: 'Sandal', \n",
    "                       6: 'Shirt', \n",
    "                       7: 'Sneaker', \n",
    "                       8: 'Bag', \n",
    "                       9: 'Ankle boot'}"
   ]
  },
  {
   "cell_type": "markdown",
   "metadata": {},
   "source": [
    "#### Plot random samples"
   ]
  },
  {
   "cell_type": "code",
   "execution_count": 4,
   "metadata": {},
   "outputs": [
    {
     "data": {
      "image/png": "[encoded data removed]",
      "text/plain": [
       "<Figure size 432x288 with 1 Axes>"
      ]
     },
     "metadata": {
      "needs_background": "light"
     },
     "output_type": "display_data"
    },
    {
     "name": "stdout",
     "output_type": "stream",
     "text": [
      "Target: Pullover\n"
     ]
    }
   ],
   "source": [
    "%matplotlib inline\n",
    "import matplotlib.pyplot as plt\n",
    "import numpy as np\n",
    "\n",
    "idx = np.random.randint(len(X_train))\n",
    "plt.imshow(np.squeeze(X_train[idx]), cmap='gray')\n",
    "plt.axis('off')\n",
    "plt.show()\n",
    "\n",
    "print(\"Target:\", fashion_classes[y_train[idx]])"
   ]
  },
  {
   "cell_type": "markdown",
   "metadata": {},
   "source": [
    "### Data augmentation (optional)\n",
    "This method will increase the raw data by data augmentation of images. I just added rotation, horizontal flip and fill mode. Feel free to change these settings. These settings can be found in dataLoader.py\n",
    "Processing of raw images:\n",
    "- Scaling pixels between 0.0-1.0\n",
    "- Add augmentated images"
   ]
  },
  {
   "cell_type": "code",
   "execution_count": 5,
   "metadata": {},
   "outputs": [
    {
     "name": "stdout",
     "output_type": "stream",
     "text": [
      "Augmenting images...\n",
      "*Preprocessing completed: 180000 samples\n",
      "\n",
      "Augmenting images...\n",
      "*Preprocessing completed: 10000 samples\n",
      "\n"
     ]
    }
   ],
   "source": [
    "from tensorflow.keras.preprocessing.image import ImageDataGenerator\n",
    "\n",
    "# Perform data Augmentation\n",
    "X_train_shaped, y_train_shaped = dataloader.preprocess_data(\n",
    "                                        X_train, y_train, \n",
    "                                        use_augmentation=True, \n",
    "                                        nb_of_augmentation=args.num_aug\n",
    "                                        )\n",
    "X_test_shaped, y_test_shaped   = dataloader.preprocess_data(X_test,  y_test)"
   ]
  },
  {
   "cell_type": "markdown",
   "metadata": {},
   "source": [
    "### Model"
   ]
  },
  {
   "cell_type": "markdown",
   "metadata": {},
   "source": [
    "#### Generate model now, all models ared defined isnide code/util/model.py"
   ]
  },
  {
   "cell_type": "code",
   "execution_count": 12,
   "metadata": {},
   "outputs": [
    {
     "name": "stdout",
     "output_type": "stream",
     "text": [
      "Version 1\n",
      "Model: \"sequential_2\"\n",
      "_________________________________________________________________\n",
      "Layer (type)                 Output Shape              Param #   \n",
      "=================================================================\n",
      "conv2d_2 (Conv2D)            (None, 28, 28, 16)        160       \n",
      "_________________________________________________________________\n",
      "activation (Activation)      (None, 28, 28, 16)        0         \n",
      "_________________________________________________________________\n",
      "conv2d_3 (Conv2D)            (None, 26, 26, 32)        4640      \n",
      "_________________________________________________________________\n",
      "batch_normalization_2 (Batch (None, 26, 26, 32)        128       \n",
      "_________________________________________________________________\n",
      "activation_1 (Activation)    (None, 26, 26, 32)        0         \n",
      "_________________________________________________________________\n",
      "max_pooling2d_2 (MaxPooling2 (None, 13, 13, 32)        0         \n",
      "_________________________________________________________________\n",
      "dropout_3 (Dropout)          (None, 13, 13, 32)        0         \n",
      "_________________________________________________________________\n",
      "conv2d_4 (Conv2D)            (None, 11, 11, 64)        18496     \n",
      "_________________________________________________________________\n",
      "batch_normalization_3 (Batch (None, 11, 11, 64)        256       \n",
      "_________________________________________________________________\n",
      "activation_2 (Activation)    (None, 11, 11, 64)        0         \n",
      "_________________________________________________________________\n",
      "max_pooling2d_3 (MaxPooling2 (None, 5, 5, 64)          0         \n",
      "_________________________________________________________________\n",
      "dropout_4 (Dropout)          (None, 5, 5, 64)          0         \n",
      "_________________________________________________________________\n",
      "flatten_1 (Flatten)          (None, 1600)              0         \n",
      "_________________________________________________________________\n",
      "dense_3 (Dense)              (None, 512)               819712    \n",
      "_________________________________________________________________\n",
      "activation_3 (Activation)    (None, 512)               0         \n",
      "_________________________________________________________________\n",
      "dropout_5 (Dropout)          (None, 512)               0         \n",
      "_________________________________________________________________\n",
      "dense_4 (Dense)              (None, 10)                5130      \n",
      "=================================================================\n",
      "Total params: 848,522\n",
      "Trainable params: 848,330\n",
      "Non-trainable params: 192\n",
      "_________________________________________________________________\n"
     ]
    },
    {
     "data": {
      "text/plain": [
       "<Figure size 432x288 with 0 Axes>"
      ]
     },
     "metadata": {},
     "output_type": "display_data"
    }
   ],
   "source": [
    "%run ../code/util/model.py\n",
    "\n",
    "args.model_arch=\"v1\"\n",
    "model_obj = GenerateModel(args)\n",
    "cnn_model = model_obj.cnn_model() #Default Architecture is Custom finetuned\n",
    "\n",
    "cnn_model.summary()"
   ]
  },
  {
   "cell_type": "markdown",
   "metadata": {},
   "source": [
    "### Run training\n",
    "Run training for number of iterations by random data for train/validation. The best model of each iteration will be saved as hdf5 checkpoint."
   ]
  },
  {
   "cell_type": "code",
   "execution_count": 7,
   "metadata": {
    "scrolled": true
   },
   "outputs": [
    {
     "name": "stdout",
     "output_type": "stream",
     "text": [
      "Train on 144000 samples, validate on 36000 samples\n",
      "Epoch 1/10\n",
      "143750/144000 [============================>.] - ETA: 0s - loss: 0.5530 - accuracy: 0.8005\n",
      "Epoch 00001: val_loss improved from inf to 0.31895, saving model to fashion_mnist-0.hdf5\n",
      "144000/144000 [==============================] - 19s 131us/sample - loss: 0.5527 - accuracy: 0.8005 - val_loss: 0.3190 - val_accuracy: 0.8818\n",
      "Epoch 2/10\n",
      "143750/144000 [============================>.] - ETA: 0s - loss: 0.3502 - accuracy: 0.8714\n",
      "Epoch 00002: val_loss improved from 0.31895 to 0.27703, saving model to fashion_mnist-0.hdf5\n",
      "144000/144000 [==============================] - 17s 117us/sample - loss: 0.3501 - accuracy: 0.8714 - val_loss: 0.2770 - val_accuracy: 0.8961\n",
      "Epoch 3/10\n",
      "143750/144000 [============================>.] - ETA: 0s - loss: 0.3084 - accuracy: 0.8864\n",
      "Epoch 00003: val_loss improved from 0.27703 to 0.26466, saving model to fashion_mnist-0.hdf5\n",
      "144000/144000 [==============================] - 17s 117us/sample - loss: 0.3086 - accuracy: 0.8864 - val_loss: 0.2647 - val_accuracy: 0.8993\n",
      "Epoch 4/10\n",
      "143750/144000 [============================>.] - ETA: 0s - loss: 0.2799 - accuracy: 0.8972\n",
      "Epoch 00004: val_loss improved from 0.26466 to 0.22874, saving model to fashion_mnist-0.hdf5\n",
      "144000/144000 [==============================] - 17s 120us/sample - loss: 0.2799 - accuracy: 0.8972 - val_loss: 0.2287 - val_accuracy: 0.9134\n",
      "Epoch 5/10\n",
      "143750/144000 [============================>.] - ETA: 0s - loss: 0.2640 - accuracy: 0.9027\n",
      "Epoch 00005: val_loss improved from 0.22874 to 0.21799, saving model to fashion_mnist-0.hdf5\n",
      "144000/144000 [==============================] - 17s 120us/sample - loss: 0.2641 - accuracy: 0.9026 - val_loss: 0.2180 - val_accuracy: 0.9178\n",
      "Epoch 6/10\n",
      "143750/144000 [============================>.] - ETA: 0s - loss: 0.2486 - accuracy: 0.9077\n",
      "Epoch 00006: val_loss improved from 0.21799 to 0.21272, saving model to fashion_mnist-0.hdf5\n",
      "144000/144000 [==============================] - 17s 121us/sample - loss: 0.2487 - accuracy: 0.9077 - val_loss: 0.2127 - val_accuracy: 0.9217\n",
      "Epoch 7/10\n",
      "143750/144000 [============================>.] - ETA: 0s - loss: 0.2386 - accuracy: 0.9117\n",
      "Epoch 00007: val_loss improved from 0.21272 to 0.20086, saving model to fashion_mnist-0.hdf5\n",
      "144000/144000 [==============================] - 17s 121us/sample - loss: 0.2387 - accuracy: 0.9116 - val_loss: 0.2009 - val_accuracy: 0.9252\n",
      "Epoch 8/10\n",
      "143750/144000 [============================>.] - ETA: 0s - loss: 0.2283 - accuracy: 0.9143\n",
      "Epoch 00008: val_loss improved from 0.20086 to 0.19203, saving model to fashion_mnist-0.hdf5\n",
      "144000/144000 [==============================] - 18s 122us/sample - loss: 0.2282 - accuracy: 0.9144 - val_loss: 0.1920 - val_accuracy: 0.9289\n",
      "Epoch 9/10\n",
      "143750/144000 [============================>.] - ETA: 0s - loss: 0.2200 - accuracy: 0.9181\n",
      "Epoch 00009: val_loss improved from 0.19203 to 0.18803, saving model to fashion_mnist-0.hdf5\n",
      "144000/144000 [==============================] - 17s 120us/sample - loss: 0.2201 - accuracy: 0.9181 - val_loss: 0.1880 - val_accuracy: 0.9293\n",
      "Epoch 10/10\n",
      "143750/144000 [============================>.] - ETA: 0s - loss: 0.2125 - accuracy: 0.9201\n",
      "Epoch 00010: val_loss did not improve from 0.18803\n",
      "144000/144000 [==============================] - 17s 121us/sample - loss: 0.2126 - accuracy: 0.9201 - val_loss: 0.2165 - val_accuracy: 0.9186\n",
      "Total time taken =  174.8936469554901\n"
     ]
    }
   ],
   "source": [
    "from sklearn.model_selection import train_test_split\n",
    "\n",
    "histories = []\n",
    "\n",
    "i=0\n",
    "# Saving the best checkpoint for each iteration\n",
    "filepath = \"fashion_mnist-%i.hdf5\" % i\n",
    "\n",
    "X_train_, X_val_, y_train_, y_val_ = train_test_split(X_train_shaped, y_train_shaped,\n",
    "                                                      test_size=0.2, random_state=42)\n",
    "\n",
    "import time\n",
    "start = time.time()\n",
    "history = cnn_model.fit(\n",
    "    X_train_, y_train_,\n",
    "    batch_size=args.batch_size,\n",
    "    epochs=args.num_epochs,\n",
    "    verbose=1,\n",
    "    validation_data=(X_val_, y_val_),\n",
    "    callbacks=[\n",
    "        tf.keras.callbacks.ModelCheckpoint(filepath, monitor='val_loss', verbose=1, save_best_only=True)\n",
    "    ]\n",
    ")\n",
    "end = time.time()\n",
    "print(\"Total time taken = \", end-start)\n",
    "histories.append(history.history)"
   ]
  },
  {
   "cell_type": "markdown",
   "metadata": {},
   "source": [
    "# Evaluation"
   ]
  },
  {
   "cell_type": "markdown",
   "metadata": {},
   "source": [
    "#### Trainingscores for loss and accuracy for all checkpoints are imporved with Data Agmentation\n",
    "Please remind that checkpoints will be saved by minimum loss."
   ]
  },
  {
   "cell_type": "code",
   "execution_count": 13,
   "metadata": {},
   "outputs": [
    {
     "name": "stdout",
     "output_type": "stream",
     "text": [
      "Training: \t0.22014115 loss / 0.91809028 acc\n",
      "Validation: \t0.18803155 loss / 0.92925000 acc\n"
     ]
    }
   ],
   "source": [
    "def get_avg(histories, his_key):\n",
    "    tmp = []\n",
    "    for history in histories:\n",
    "        tmp.append(history[his_key][np.argmin(history['val_loss'])])\n",
    "    return np.mean(tmp)\n",
    "    \n",
    "print('Training: \\t%0.8f loss / %0.8f acc'   % (get_avg(histories,'loss'), get_avg(histories,'accuracy')))\n",
    "print('Validation: \\t%0.8f loss / %0.8f acc' % (get_avg(histories,'val_loss'), get_avg(histories,'val_accuracy')))"
   ]
  },
  {
   "cell_type": "markdown",
   "metadata": {},
   "source": [
    "#### Loss / accuracy of all models on testset\n",
    "Determine loss and accuracy of all models."
   ]
  },
  {
   "cell_type": "code",
   "execution_count": 14,
   "metadata": {},
   "outputs": [
    {
     "name": "stdout",
     "output_type": "stream",
     "text": [
      "Running final test with model 0: 0.2179 loss / 0.9182 acc\n",
      "\n",
      "Average loss / accuracy on testset: 0.2179 loss / 0.91820 acc\n",
      "Standard deviation: (+-0.0000) loss / (+-0.0000) acc\n"
     ]
    }
   ],
   "source": [
    "test_loss = []\n",
    "test_accs = []\n",
    "\n",
    "for i in range(0,1):\n",
    "    cnn_ = tf.keras.models.load_model(\"fashion_mnist-%i.hdf5\" % i)\n",
    "    \n",
    "    score = cnn_.evaluate(X_test_shaped, y_test_shaped, verbose=0)\n",
    "    test_loss.append(score[0])\n",
    "    test_accs.append(score[1])\n",
    "    \n",
    "    print('Running final test with model %i: %0.4f loss / %0.4f acc' % (i,score[0],score[1]))\n",
    "    \n",
    "print('\\nAverage loss / accuracy on testset: %0.4f loss / %0.5f acc' % (np.mean(test_loss),np.mean(test_accs)))\n",
    "print('Standard deviation: (+-%0.4f) loss / (+-%0.4f) acc' % (np.std(test_loss),np.std(test_accs)))"
   ]
  },
  {
   "cell_type": "markdown",
   "metadata": {},
   "source": [
    "##### Plotting accuracy and loss for each iteration"
   ]
  },
  {
   "cell_type": "code",
   "execution_count": 15,
   "metadata": {},
   "outputs": [],
   "source": [
    "def plot_acc_loss(title, histories, key_acc, key_loss):\n",
    "    fig, (ax1, ax2) = plt.subplots(1, 2)\n",
    "    \n",
    "    # Accuracy\n",
    "    ax1.set_title('Model accuracy (%s)' % title)\n",
    "    names = []\n",
    "    for i, model in enumerate(histories):\n",
    "        ax1.plot(model[key_acc])\n",
    "        ax1.set_xlabel('epoch')\n",
    "        names.append('Model %i' % i)\n",
    "        ax1.set_ylabel('accuracy')\n",
    "    ax1.legend(names, loc='upper left')\n",
    "    \n",
    "    # Loss\n",
    "    ax2.set_title('Model loss (%s)' % title)\n",
    "    for model in histories:\n",
    "        ax2.plot(model[key_loss])\n",
    "        ax2.set_xlabel('epoch')\n",
    "        ax2.set_ylabel('loss')\n",
    "    ax2.legend(names, loc='upper right')\n",
    "    fig.set_size_inches(20, 5)\n",
    "    plt.show()"
   ]
  },
  {
   "cell_type": "code",
   "execution_count": 11,
   "metadata": {},
   "outputs": [
    {
     "data": {
      "image/png": "[encoded data removed]",
      "text/plain": [
       "<Figure size 1440x360 with 2 Axes>"
      ]
     },
     "metadata": {
      "needs_background": "light"
     },
     "output_type": "display_data"
    },
    {
     "data": {
      "image/png": "[encoded data removed]",
      "text/plain": [
       "<Figure size 1440x360 with 2 Axes>"
      ]
     },
     "metadata": {
      "needs_background": "light"
     },
     "output_type": "display_data"
    }
   ],
   "source": [
    "plot_acc_loss('training', histories, 'accuracy', 'loss')\n",
    "plot_acc_loss('validation', histories, 'val_accuracy', 'val_loss')"
   ]
  }
 ],
 "metadata": {
  "kernelspec": {
   "display_name": "FashionMNIST",
   "language": "python",
   "name": "fashionmnist"
  },
  "language_info": {
   "codemirror_mode": {
    "name": "ipython",
    "version": 3
   },
   "file_extension": ".py",
   "mimetype": "text/x-python",
   "name": "python",
   "nbconvert_exporter": "python",
   "pygments_lexer": "ipython3",
   "version": "3.7.5"
  }
 },
 "nbformat": 4,
 "nbformat_minor": 4
}
